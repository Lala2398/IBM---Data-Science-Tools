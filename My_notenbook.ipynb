{
 "cells": [
  {
   "cell_type": "markdown",
   "id": "c7b44c47-c20b-4722-ad36-43bdc93c0f3c",
   "metadata": {},
   "source": [
    "# 2nd part exercises ( 5-6-7-8) of IBM Data Science (Tools for Data Science course)"
   ]
  },
  {
   "cell_type": "markdown",
   "id": "f7ce8bfe-2b57-4573-a7a5-bd3a007cab6f",
   "metadata": {},
   "source": [
    "3rd part of exercises (9-10)"
   ]
  },
  {
   "cell_type": "markdown",
   "id": "310cd3c0-612d-4a55-96f0-b008ec8bad6a",
   "metadata": {},
   "source": [
    "# H1\n",
    "## H2\n",
    "### H3\n",
    "#### H4\n",
    "##### H5\n",
    "###### H6\n",
    "\n",
    "Alternatively, for H1 and H2, an underline-ish style:\n",
    "\n",
    "Alt-H1\n",
    "======\n",
    "\n",
    "Alt-H2\n",
    "------"
   ]
  },
  {
   "cell_type": "markdown",
   "id": "a71a39cd-6f42-4a96-9a3b-1237f0d46c33",
   "metadata": {},
   "source": [
    "| Exercises p/1| Exercises p/ 2| Exercises p/3  |\n",
    "| ------------- |:-------------:| -----:|\n",
    "| ex 1,2     | ex 5,6 | ex 9 |\n",
    "| ex 3,4      | ex 7, 8      |   ex 10|\n",
    "| download | download     |  download   |"
   ]
  },
  {
   "cell_type": "markdown",
   "id": "c3e2ed39-1707-4759-822b-d1cf7affd73b",
   "metadata": {},
   "source": [
    "Jupyter Notebooks on the Internet \n",
    "\n",
    "https://www.kaggle.com/lalitharajesh/iris-dataset-exploratory-data-analysis?utm_medium=Exinfluencer&utm_source=Exinfluencer&utm_content=000026UJ&utm_term=10006555&utm_id=NA-SkillsNetwork-wwwcourseraorg-SkillsNetworkCoursesIBMDeveloperSkillsNetworkDS0105ENSkillsNetwork20083975-2021-01-014"
   ]
  },
  {
   "cell_type": "markdown",
   "id": "b056196c-4cac-418e-a01d-de07c05eb1a1",
   "metadata": {},
   "source": [
    "https://nbviewer.org/github/temporaer/tutorial_ml_gkbionics/blob/master/2%20-%20KMeans.ipynb?utm_medium=Exinfluencer&utm_source=Exinfluencer&utm_content=000026UJ&utm_term=10006555&utm_id=NA-SkillsNetwork-wwwcourseraorg-SkillsNetworkCoursesIBMDeveloperSkillsNetworkDS0105ENSkillsNetwork20083975-2021-01-01"
   ]
  },
  {
   "cell_type": "markdown",
   "id": "8f2010eb-7151-462b-bdf2-b2b04ec57a23",
   "metadata": {},
   "source": [
    "https://towardsdatascience.com/data-cleaning-with-python-using-pandas-library-c6f4a68ea8eb"
   ]
  },
  {
   "cell_type": "markdown",
   "id": "413d59b8-a5c4-45dd-a1f8-a2cc189d9aed",
   "metadata": {},
   "source": [
    "https://nbviewer.org/github/Tanu-N-Prabhu/Python/blob/master/Exploratory_data_Analysis.ipynb?utm_medium=Exinfluencer&utm_source=Exinfluencer&utm_content=000026UJ&utm_term=10006555&utm_id=NA-SkillsNetwork-wwwcourseraorg-SkillsNetworkCoursesIBMDeveloperSkillsNetworkDS0105ENSkillsNetwork20083975-2021-01-01"
   ]
  },
  {
   "cell_type": "code",
   "execution_count": null,
   "id": "ebf7de4c-fa3e-4e5c-a371-e5f63890d281",
   "metadata": {},
   "outputs": [],
   "source": []
  }
 ],
 "metadata": {
  "kernelspec": {
   "display_name": "R",
   "language": "R",
   "name": "conda-env-r-r"
  },
  "language_info": {
   "codemirror_mode": "r",
   "file_extension": ".r",
   "mimetype": "text/x-r-source",
   "name": "R",
   "pygments_lexer": "r",
   "version": "3.5.1"
  }
 },
 "nbformat": 4,
 "nbformat_minor": 5
}
